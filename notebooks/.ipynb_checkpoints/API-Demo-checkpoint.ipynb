{
 "cells": [
  {
   "cell_type": "markdown",
   "id": "5133bf1b-703f-43e6-955e-d83f529d41ce",
   "metadata": {},
   "source": [
    "# First we will import a Python library that makes Web requests"
   ]
  },
  {
   "cell_type": "code",
   "execution_count": null,
   "id": "1491a969-d776-4671-a0cb-230662601e8a",
   "metadata": {},
   "outputs": [],
   "source": [
    "import requests"
   ]
  }
 ],
 "metadata": {
  "kernelspec": {
   "display_name": "Python 3 (ipykernel)",
   "language": "python",
   "name": "python3"
  },
  "language_info": {
   "codemirror_mode": {
    "name": "ipython",
    "version": 3
   },
   "file_extension": ".py",
   "mimetype": "text/x-python",
   "name": "python",
   "nbconvert_exporter": "python",
   "pygments_lexer": "ipython3",
   "version": "3.10.6"
  }
 },
 "nbformat": 4,
 "nbformat_minor": 5
}
