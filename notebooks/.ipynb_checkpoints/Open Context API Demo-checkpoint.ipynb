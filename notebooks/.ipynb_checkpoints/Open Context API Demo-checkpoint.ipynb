{
 "cells": [
  {
   "cell_type": "code",
   "execution_count": 1,
   "metadata": {},
   "outputs": [],
   "source": [
    "# This imports the OpenContextAPI from the api.py file in the\n",
    "# opencontext directory.\n",
    "%run '../opencontext/api.py'"
   ]
  },
  {
   "cell_type": "code",
   "execution_count": 2,
   "metadata": {},
   "outputs": [
    {
     "name": "stdout",
     "output_type": "stream",
     "text": [
      "GET Success for JSON data from: https://opencontext.org/query/?cat=oc-gen-cat-bio-subj-ecofact---oc-gen-cat-animal-bone&prop=obo-foodon-00001303---gbif-1---gbif-44---gbif-359---gbif-731---gbif-9614&prop=oc-zoo-has-anat-id---obo-uberon-0002091---obo-uberon-0000979&type=subjects&prop=oc-zoo-von-den-driesch-bone-meas#tab=0/aq=facet-cidoc-crm-p2-has-type---obo-uberon-0000979/ovgrd=oc/zm=3/lat=38.82/lng=-22.50/ov=sqr\n",
      "Has taxonomic identifier, identified by slug: obo-foodon-00001303\n",
      "Has anatomical identification, identified by slug: oc-zoo-has-anat-id\n",
      "Fusion characterization, identified by slug: oc-zoo-fusion-characterization\n",
      "Has physiological sex determination, identified by slug: oc-zoo-has-phys-sex-det\n",
      "E54 Dimension, identified by slug: cidoc-crm-e54-dimension\n",
      "Has type, identified by slug: cidoc-crm-p2-has-type\n",
      "Consists of, identified by slug: cidoc-crm-p45-consists-of\n",
      "License, identified by slug: dc-terms-license\n",
      "Subject, identified by slug: dc-terms-subject\n",
      "Distance, identified by slug: obo-pato-0000040\n",
      "Creator, identified by slug: dc-terms-creator\n",
      "Spatial Coverage, identified by slug: dc-terms-spatial\n",
      "Contributor, identified by slug: dc-terms-contributor\n",
      "Coverage, identified by slug: dc-terms-coverage\n",
      "Temporal Coverage, identified by slug: dc-terms-temporal\n",
      "References, identified by slug: dc-terms-references\n",
      "Wikidata, identified by slug: wikidata\n",
      "Has fusion character, identified by slug: oc-zoo-has-fusion-char\n",
      "Bd, identified by slug: oc-zoo-bd\n",
      "Dd, identified by slug: oc-zoo-dd-2\n",
      "SD, identified by slug: oc-zoo-sd\n",
      "Bp, identified by slug: oc-zoo-bp\n",
      "DD, identified by slug: oc-zoo-dd\n",
      "GL, identified by slug: oc-zoo-gl\n",
      "CD, identified by slug: oc-zoo-cd\n",
      "Dp, identified by slug: oc-zoo-dp\n",
      "BT, identified by slug: oc-zoo-bt\n",
      "BFd, identified by slug: oc-zoo-bfd\n",
      "Ld, identified by slug: oc-zoo-ld\n",
      "DC, identified by slug: oc-zoo-dc\n",
      "Dl, identified by slug: oc-zoo-dl\n",
      "Ll, identified by slug: oc-zoo-ll\n"
     ]
    }
   ],
   "source": [
    "import numpy as np\n",
    "import pandas as pd\n",
    "\n",
    "oc_api = OpenContextAPI()\n",
    "\n",
    "# Clear old cached records.\n",
    "oc_api.clear_api_cache()\n",
    "\n",
    "# This is a search url for bovid tibias.\n",
    "url = 'https://opencontext.org/query/?cat=oc-gen-cat-bio-subj-ecofact---oc-gen-cat-animal-bone&prop=obo-foodon-00001303---gbif-1---gbif-44---gbif-359---gbif-731---gbif-9614&prop=oc-zoo-has-anat-id---obo-uberon-0002091---obo-uberon-0000979&type=subjects#tab=0/aq=facet-cidoc-crm-p2-has-type---obo-uberon-0000979/ovgrd=oc/zm=3/lat=38.82/lng=-22.50/ov=sqr'\n",
    "# Fetch the 'standard' (linked data identified) attributes in use with\n",
    "# data at the url.\n",
    "stnd_attribs_tuples = oc_api.get_standard_attributes(\n",
    "    url,\n",
    "    # The optional argument below gets popular standard\n",
    "    # zooarchaeological (bone) measurements.\n",
    "    add_von_den_driesch_bone_measures=True\n",
    ")\n",
    "\n",
    "# Now display the standard attributes found in this search / query result\n",
    "for slug, label in stnd_attribs_tuples:\n",
    "    print(f'{label}, identified by slug: {slug}')"
   ]
  },
  {
   "cell_type": "code",
   "execution_count": null,
   "metadata": {},
   "outputs": [
    {
     "name": "stdout",
     "output_type": "stream",
     "text": [
      "Got records 7401 to 7600 of 9724 from: https://opencontext.org/query/?attributes=obo-foodon-00001303%2Coc-zoo-has-anat-id%2Coc-zoo-fusion-characterization%2Coc-zoo-has-phys-sex-det%2Ccidoc-crm-e54-dimension%2Ccidoc-crm-p2-has-type%2Ccidoc-crm-p45-consists-of%2Cdc-terms-license%2Cdc-terms-subject%2Cobo-pato-0000040%2Cdc-terms-creator%2Cdc-terms-spatial%2Cdc-terms-contributor%2Cdc-terms-coverage%2Cdc-terms-temporal%2Cdc-terms-references%2Cwikidata%2Coc-zoo-has-fusion-char%2Coc-zoo-bd%2Coc-zoo-dd-2%2Coc-zoo-sd%2Coc-zoo-bp%2Coc-zoo-dd%2Coc-zoo-gl%2Coc-zoo-cd%2Coc-zoo-dp%2Coc-zoo-bt%2Coc-zoo-bfd%2Coc-zoo-ld%2Coc-zoo-dc%2Coc-zoo-dl%2Coc-zoo-ll&cat=oc-gen-cat-bio-subj-ecofact---oc-gen-cat-animal-bone&prop=obo-foodon-00001303---gbif-1---gbif-44---gbif-359---gbif-731---gbif-9614&prop=oc-zoo-has-anat-id---obo-uberon-0002091---obo-uberon-0000979&response=metadata%2Curi-meta&rows=200&start=7400&type=subjects\r"
     ]
    }
   ],
   "source": [
    "# Make a list of only the slugs from the list of slug, label tuples.\n",
    "stnd_attribs = [slug for slug, _ in stnd_attribs_tuples]\n",
    "\n",
    "# Make a dataframe by fetching result records from Open Context.\n",
    "# This will be slow until we finish improvements to Open Context's API.\n",
    "# However, the results get cached by saving as files locally. That\n",
    "# makes iterating on this notebook much less painful.\n",
    "df = oc_api.url_to_dataframe(url, stnd_attribs)"
   ]
  },
  {
   "cell_type": "code",
   "execution_count": null,
   "metadata": {},
   "outputs": [],
   "source": [
    "# Display a sample of the dataframe.\n",
    "df.head(10)"
   ]
  },
  {
   "cell_type": "code",
   "execution_count": null,
   "metadata": {},
   "outputs": [],
   "source": [
    "import matplotlib.pyplot as plt\n",
    "import matplotlib.cm as cm\n",
    "\n",
    "# Now we're going to make a plot.\n",
    "markers = [\n",
    "    'o',\n",
    "    'x',\n",
    "    'v',\n",
    "    'D',\n",
    "    'p',\n",
    "    '^',\n",
    "    's',\n",
    "    '*',\n",
    "]\n",
    "colors = cm.rainbow(np.linspace(0, 1, len(markers)))\n",
    "taxa = df['Has taxonomic identifier'].unique().tolist()\n",
    "ax = None\n",
    "i = 0\n",
    "for taxon in df['Has taxonomic identifier'].unique().tolist():\n",
    "    taxon_index = (\n",
    "        (df['Has taxonomic identifier'] == taxon)\n",
    "        & ~df['Bp'].isnull()\n",
    "        & ~df['Dp'].isnull()\n",
    "    )\n",
    "    if df[taxon_index].empty:\n",
    "        # No data for this taxon\n",
    "        continue\n",
    "    label = '{} [n={}]'.format(taxon, len(df[taxon_index].index))\n",
    "    if not ax:\n",
    "        ax = df[taxon_index].plot.scatter(\n",
    "            x='Bp', \n",
    "            y='Dp', \n",
    "            marker=markers[i], \n",
    "            label=label, \n",
    "            color=colors[i].reshape(1,-1)\n",
    "        )\n",
    "    else:\n",
    "        df[taxon_index].plot.scatter(\n",
    "            x='Bp', \n",
    "            y='Dp', \n",
    "            marker=markers[i], \n",
    "            label=label, \n",
    "            ax=ax, \n",
    "            color=colors[i].reshape(1,-1)\n",
    "        )\n",
    "    i += 1\n",
    "    if i >= len(markers):\n",
    "        # This is here to make sure we don't run out of markers.\n",
    "        markers += [(m + m) for m in markers]\n",
    "        colors = cm.rainbow(np.linspace(0, 1, len(markers)))\n",
    "\n",
    "\n",
    "\n"
   ]
  },
  {
   "cell_type": "code",
   "execution_count": null,
   "metadata": {},
   "outputs": [],
   "source": [
    "import os\n",
    "\n",
    "# Now save the results of all of this as a CSV file.\n",
    "repo_path = os.path.dirname(os.path.abspath(os.getcwd()))\n",
    "csv_path = os.path.join(\n",
    "    repo_path, \n",
    "    'files',\n",
    "    'oc-api-demo-results.csv'\n",
    ")\n",
    "df.to_csv(csv_path, index=False)\n",
    "print('Saved this example as a CSV table at: {}'.format(csv_path))\n"
   ]
  }
 ],
 "metadata": {
  "kernelspec": {
   "display_name": "Python 3 (ipykernel)",
   "language": "python",
   "name": "python3"
  },
  "language_info": {
   "codemirror_mode": {
    "name": "ipython",
    "version": 3
   },
   "file_extension": ".py",
   "mimetype": "text/x-python",
   "name": "python",
   "nbconvert_exporter": "python",
   "pygments_lexer": "ipython3",
   "version": "3.8.12"
  }
 },
 "nbformat": 4,
 "nbformat_minor": 4
}
