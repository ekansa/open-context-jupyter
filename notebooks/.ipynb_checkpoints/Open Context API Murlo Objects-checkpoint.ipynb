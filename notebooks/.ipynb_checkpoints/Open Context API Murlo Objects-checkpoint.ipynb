{
 "cells": [
  {
   "cell_type": "code",
   "execution_count": 1,
   "metadata": {},
   "outputs": [],
   "source": [
    "# This imports the OpenContextAPI from the api.py file in the\n",
    "# opencontext directory.\n",
    "%run '../opencontext/api.py'"
   ]
  },
  {
   "cell_type": "code",
   "execution_count": 2,
   "metadata": {},
   "outputs": [
    {
     "name": "stdout",
     "output_type": "stream",
     "text": [
      "Got records 12601 to 12655 of 12655 from: https://opencontext.org/query/Europe/Italy?attributes=ALL-ATTRIBUTES&cat=oc-gen-cat-object&proj=24-murlo&response=metadata%2Curi-meta&rows=200&start=12600&type=subjects\r"
     ]
    }
   ],
   "source": [
    "import numpy as np\n",
    "import pandas as pd\n",
    "\n",
    "oc_api = OpenContextAPI()\n",
    "oc_api.set_cache_file_prefix('murlo-objs')\n",
    "\n",
    "# Make multiple values for non-numbers JSON formated strings\n",
    "oc_api.multi_value_handle_non_number = 'concat'\n",
    "oc_api.multi_value_handle_keyed_attribs = {\n",
    "    'Motif': 'json',\n",
    "    'Decorative Technique': 'json',\n",
    "    'Fabric Category': 'json',\n",
    "}\n",
    "\n",
    "# Clear old cached records.\n",
    "oc_api.clear_api_cache()\n",
    "\n",
    "# This is a search url for Poggio Civitate objects (artifacts)\n",
    "url = 'https://opencontext.org/query/Europe/Italy?cat=oc-gen-cat-object&proj=24-murlo&type=subjects'\n",
    "\n",
    "# Since we're dealing with data from only 1 project, we won't get too many attribues (hopefully!)\n",
    "# so we can just request ''\n",
    "attribs_for_records = ['ALL-ATTRIBUTES',]\n",
    "\n",
    "# Make a dataframe by fetching result records from Open Context.\n",
    "# This will be slow until we finish improvements to Open Context's API.\n",
    "# However, the results get cached by saving as files locally. That\n",
    "# makes iterating on this notebook much less painful.\n",
    "df = oc_api.url_to_dataframe(url, attribs_for_records)"
   ]
  },
  {
   "cell_type": "markdown",
   "metadata": {},
   "source": [
    "In this particular dataset, there are long (sometimes HTML) descriptions of objects. We're caching these locally in the JSON results from the API requests to Open Context. However, for our purposes of making analysis friendly dataframes, we don't need these long free-text attributes. So we'll drop them from the dataframe."
   ]
  },
  {
   "cell_type": "code",
   "execution_count": 3,
   "metadata": {},
   "outputs": [
    {
     "name": "stdout",
     "output_type": "stream",
     "text": [
      "['uri', 'citation uri', 'label', 'item category', 'project label', 'published', 'updated', 'latitude', 'longitude', 'early bce/ce', 'late bce/ce', 'Context (1)', 'Context (2)', 'Context (3)', 'Context (4)', 'Context (5)', 'Context (6)', 'Context (7)', 'project href', 'Subject', 'Subject [URI]', 'Coverage', 'Coverage [URI]', 'Temporal Coverage', 'Temporal Coverage [URI]', 'Creator', 'Creator [URI]', 'License', 'License [URI]', 'ceramic ware (visual works)', 'ceramic ware (visual works) [URI]', 'ceramic ware (visual works) [getty-aat-300386879]', 'ceramic ware (visual works) [getty-aat-300386879] [URI]', 'metal', 'metal [URI]', 'metal [getty-aat-300010900]', 'metal [getty-aat-300010900] [URI]', 'Fragment Noted', 'Record Type', 'inorganic material', 'inorganic material [URI]', 'inorganic material [getty-aat-300010360]', 'inorganic material [getty-aat-300010360] [URI]', 'Materials (hierarchy name)', 'Materials (hierarchy name) [URI]', 'Materials (hierarchy name) [getty-aat-300010357]', 'Materials (hierarchy name) [getty-aat-300010357] [URI]', 'icon', 'biological material [getty-aat-300265629]', 'biological material [getty-aat-300265629] [URI]', 'Modification', 'Contributor', 'Contributor [URI]', 'Chronology', 'biological material', 'biological material [URI]', 'Consists of [cidoc-crm-p45-consists-of]', 'Consists of [cidoc-crm-p45-consists-of] [URI]', 'Object Type [24-object-type]', 'Vessel Part', 'Has type [cidoc-crm-p2-has-type]', 'Has type [cidoc-crm-p2-has-type] [URI]', 'Vessel Part Present', 'Consists of', 'Consists of [URI]', 'Vessel Form', 'Fabric Category', 'Date Cataloged', 'Conservation Action', 'Has type', 'Has type [URI]', 'Object Type', 'Decorative Technique', 'Motif', 'Conservation Material', 'Conservation Treatment Date', 'context href', 'thumbnail', 'href', 'Conservation Treatment Year', 'Elevation', 'Elevation Uncertainty (+/- cm)', 'Grid (X)', 'Grid (Y)', 'Grid X Uncertainty (+/- cm)', 'Grid Y Uncertainty (+/- cm)', 'Legacy Database Artifact ID', 'Local Grid (X)', 'Page', 'Year', 'Year Cataloged', 'Year Excavated']\n",
      "Saved this example as a CSV table at: /home/ekansa/github/open-context-jupyter/files/oc-api-murlo-objects-multivalue-as-json.csv\n"
     ]
    }
   ],
   "source": [
    "# Define a list of columns to drop.\n",
    "print(df.columns.tolist())\n",
    "\n",
    "import os\n",
    "\n",
    "# Now save the results of all of this as a CSV file.\n",
    "repo_path = os.path.dirname(os.path.abspath(os.getcwd()))\n",
    "csv_path = os.path.join(\n",
    "    repo_path, \n",
    "    'files',\n",
    "    'oc-api-murlo-objects-multivalue-as-json.csv'\n",
    ")\n",
    "df.to_csv(csv_path, index=False)\n",
    "print('Saved this example as a CSV table at: {}'.format(csv_path))\n"
   ]
  },
  {
   "cell_type": "markdown",
   "metadata": {},
   "source": [
    "Using the already cached JSON obtained from the Open Context API, we can make a second dataframe that is \"wider\" (has many more columns\"). This wide dataframe will express multiple values for \"Motif\", \"Decorative Technique\", and \"Fabric Category\" in different columns. We set the dictioary `oc_api.multi_value_handle_keyed_attribs` to do this."
   ]
  },
  {
   "cell_type": "code",
   "execution_count": 4,
   "metadata": {},
   "outputs": [
    {
     "name": "stdout",
     "output_type": "stream",
     "text": [
      "Got records 12601 to 12655 of 12655 from: https://opencontext.org/query/Europe/Italy?attributes=ALL-ATTRIBUTES&cat=oc-gen-cat-object&proj=24-murlo&response=metadata%2Curi-meta&rows=200&start=12600&type=subjects\r"
     ]
    }
   ],
   "source": [
    "oc_api.multi_value_handle_non_number = 'concat'\n",
    "oc_api.multi_value_handle_keyed_attribs = {\n",
    "    'Motif': 'column_val',\n",
    "    'Decorative Technique': 'column_val',\n",
    "    'Fabric Category': 'column_val',\n",
    "}\n",
    "df_wide = oc_api.url_to_dataframe(url, attribs_for_records)\n"
   ]
  },
  {
   "cell_type": "markdown",
   "metadata": {},
   "source": [
    "The `df_wide` dataframe handles multiple values for some attributes by making many boolean columns, with each column noting the presense of a given attribute value on a row for an artifact. For example, `True` values on the column \"Motif :: Panther\"\" indicate the presense of a \"Panther\" motif observed on an artifact, and `True` valeus of the column \"Motif :: Potnia Theron\" indicate a \"Potnia Theron\" motif on an artifact."
   ]
  },
  {
   "cell_type": "code",
   "execution_count": 5,
   "metadata": {},
   "outputs": [
    {
     "ename": "NameError",
     "evalue": "name 'drop_cols' is not defined",
     "output_type": "error",
     "traceback": [
      "\u001b[0;31m---------------------------------------------------------------------------\u001b[0m",
      "\u001b[0;31mNameError\u001b[0m                                 Traceback (most recent call last)",
      "Cell \u001b[0;32mIn[5], line 1\u001b[0m\n\u001b[0;32m----> 1\u001b[0m df_wide\u001b[38;5;241m.\u001b[39mdrop(columns\u001b[38;5;241m=\u001b[39m\u001b[43mdrop_cols\u001b[49m, inplace\u001b[38;5;241m=\u001b[39m\u001b[38;5;28;01mTrue\u001b[39;00m)\n\u001b[1;32m      2\u001b[0m \u001b[38;5;66;03m# The API returns 'False' if a citation URI is not defined, it's better \u001b[39;00m\n\u001b[1;32m      3\u001b[0m \u001b[38;5;66;03m# practice to make this a null.\u001b[39;00m\n\u001b[1;32m      4\u001b[0m df_wide\u001b[38;5;241m.\u001b[39mloc[(df_wide[\u001b[38;5;124m'\u001b[39m\u001b[38;5;124mcitation uri\u001b[39m\u001b[38;5;124m'\u001b[39m] \u001b[38;5;241m==\u001b[39m \u001b[38;5;28;01mFalse\u001b[39;00m), \u001b[38;5;124m'\u001b[39m\u001b[38;5;124mcitation uri\u001b[39m\u001b[38;5;124m'\u001b[39m] \u001b[38;5;241m=\u001b[39m np\u001b[38;5;241m.\u001b[39mnan \n",
      "\u001b[0;31mNameError\u001b[0m: name 'drop_cols' is not defined"
     ]
    }
   ],
   "source": [
    "\n",
    "csv_wide_path = os.path.join(\n",
    "    repo_path, \n",
    "    'files',\n",
    "    'oc-api-murlo-objects-multivalue-as-cols.csv'\n",
    ")\n",
    "df_wide.to_csv(csv_wide_path, index=False)\n",
    "print('Saved this example wide as a CSV table at: {}'.format(csv_wide_path))"
   ]
  }
 ],
 "metadata": {
  "kernelspec": {
   "display_name": "Python 3 (ipykernel)",
   "language": "python",
   "name": "python3"
  },
  "language_info": {
   "codemirror_mode": {
    "name": "ipython",
    "version": 3
   },
   "file_extension": ".py",
   "mimetype": "text/x-python",
   "name": "python",
   "nbconvert_exporter": "python",
   "pygments_lexer": "ipython3",
   "version": "3.8.12"
  }
 },
 "nbformat": 4,
 "nbformat_minor": 4
}
