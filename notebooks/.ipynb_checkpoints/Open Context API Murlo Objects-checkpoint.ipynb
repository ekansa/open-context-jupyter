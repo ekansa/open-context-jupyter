{
 "cells": [
  {
   "cell_type": "code",
   "execution_count": 1,
   "metadata": {},
   "outputs": [],
   "source": [
    "# This imports the OpenContextAPI from the api.py file in the\n",
    "# opencontext directory.\n",
    "%run '../opencontext/api.py'"
   ]
  },
  {
   "cell_type": "code",
   "execution_count": 2,
   "metadata": {},
   "outputs": [
    {
     "name": "stdout",
     "output_type": "stream",
     "text": [
      "Standard: Temporal Coverage, identified by slug: dc-terms-temporal\n",
      "Standard: Consists of, identified by slug: cidoc-crm-p45-consists-of\n",
      "Standard: Has type, identified by slug: cidoc-crm-p2-has-type\n",
      "Proj attribute: Fabric Category, identified by slug: 24-fabric-category\n",
      "Proj attribute: Object Type, identified by slug: 24-object-type\n",
      "Proj attribute: Director, identified by slug: 24-director\n",
      "Proj attribute: Fragment Noted, identified by slug: 24-fragment-noted\n",
      "Proj attribute: Has Related Trench Book Entry, identified by slug: 24-has-related-trench-book-entry\n",
      "Proj attribute: Decorative Technique, identified by slug: 24-decorative-technique\n",
      "Proj attribute: Conservation Material, identified by slug: 24-conservation-material\n",
      "Proj attribute: Conservation Action, identified by slug: 24-conservation-action\n",
      "Proj attribute: Vessel Form, identified by slug: 24-vessel-form\n",
      "Proj attribute: Chronology, identified by slug: 24-chronology\n",
      "Proj attribute: Motif, identified by slug: 24-motif\n",
      "Proj attribute: Catalogued by, identified by slug: catalogued-by\n",
      "Proj attribute: reference, identified by slug: 24-reference\n",
      "Proj attribute: Conserved by, identified by slug: 24-conserved-by\n",
      "Proj attribute: Record Type, identified by slug: 24-record-type\n",
      "Proj attribute: Initially documented as, identified by slug: 24-initially-documented-as\n",
      "Proj attribute: Has specialist record, identified by slug: 24-has-specialist-record\n",
      "Proj attribute: absorbed by, identified by slug: 24-absorbed-by\n",
      "Proj attribute: absorbs, identified by slug: 24-absorbs\n",
      "Proj attribute: Vessel Part Present, identified by slug: 24-vessel-part-present\n",
      "Proj attribute: joins, identified by slug: 24-joins\n",
      "Proj attribute: Vessel Part, identified by slug: 24-vessel-part\n",
      "Proj attribute: Comparanda Form, identified by slug: 24-comparanda-form\n",
      "Proj attribute: Size, identified by slug: 24-size\n",
      "Proj attribute: Object Type (notes), identified by slug: 24-object-type-notes\n",
      "Proj attribute: Condition, identified by slug: 24-condition\n",
      "Proj attribute: Fabric Description, identified by slug: 24-fabric-description\n",
      "Proj attribute: Description, identified by slug: 24-description\n",
      "Proj attribute: Object Master Grid, identified by slug: 24-object-master-grid\n",
      "Proj attribute: Local Grid (Y), identified by slug: 24-local-grid-y\n",
      "Proj attribute: Munsell Color, identified by slug: 24-munsell-color\n",
      "Proj attribute: Catalog ID Note, identified by slug: 24-catalog-id-note\n",
      "Proj attribute: Conservation People, identified by slug: 24-conservation-people\n",
      "Proj attribute: Conservation Treatment Notes, identified by slug: 24-conservation-treatment-notes\n",
      "Proj attribute: Object Coordinate Notes, identified by slug: 24-object-coordinate-notes\n",
      "Proj attribute: Local Grid (X) (Note), identified by slug: 24-local-grid-x-note\n",
      "Proj attribute: Trench, identified by slug: 24-trench\n",
      "Proj attribute: Depth Notes, identified by slug: 24-depth-notes\n",
      "Proj attribute: General Notes, identified by slug: 24-general-notes\n",
      "Proj attribute: Grid Notes, identified by slug: 24-grid-notes\n",
      "Proj attribute: Specialist Description Note, identified by slug: 24-specialist-description-note\n",
      "Proj attribute: Supplemental Find Identification Note, identified by slug: 24-supplemental-find-identification-note\n",
      "Proj attribute: Conserved in Group, identified by slug: 24-conserved-in-group\n",
      "Proj attribute: Object Relationship Note, identified by slug: 24-object-relationship-note\n",
      "Proj attribute: References, identified by slug: 24-references\n",
      "Proj attribute: Supplement Note, identified by slug: 24-supplement-note\n",
      "Proj attribute: Local Grid (X), identified by slug: 24-local-grid-x\n",
      "Proj attribute: Conservation Treatment Year, identified by slug: 24-conservation-treatment-year\n",
      "Proj attribute: Legacy Database Artifact ID, identified by slug: 24-legacy-database-artifact-id\n",
      "Proj attribute: Year Excavated, identified by slug: 24-year-excavated-1\n",
      "Proj attribute: Year Cataloged, identified by slug: 24-year-cataloged\n",
      "Proj attribute: Page, identified by slug: 24-page\n",
      "Proj attribute: Year, identified by slug: 24-year\n",
      "Proj attribute: Elevation, identified by slug: 24-elevation\n",
      "Proj attribute: Grid (X), identified by slug: 24-grid-x\n",
      "Proj attribute: Grid (Y), identified by slug: 24-grid-y\n",
      "Proj attribute: Grid X Uncertainty (+/- cm), identified by slug: 24-grid-x-uncertainty-cm\n",
      "Proj attribute: Grid Y Uncertainty (+/- cm), identified by slug: 24-grid-y-uncertainty-cm\n",
      "Proj attribute: Elevation Uncertainty (+/- cm), identified by slug: 24-elevation-uncertainty-cm\n",
      "Proj attribute: Conservation Treatment Date, identified by slug: 24-conservation-treatment-date\n",
      "Proj attribute: Date Cataloged, identified by slug: 24-date-cataloged\n"
     ]
    }
   ],
   "source": [
    "import numpy as np\n",
    "import pandas as pd\n",
    "\n",
    "oc_api = OpenContextAPI()\n",
    "oc_api.set_cache_file_prefix('murlo-objs')\n",
    "\n",
    "# Make multiple values for non-numbers JSON formated strings\n",
    "oc_api.multi_value_handle_non_number = 'concat'\n",
    "oc_api.multi_value_handle_keyed_attribs = {\n",
    "    'Motif': 'json',\n",
    "    'Decorative Technique': 'json',\n",
    "    'Fabric Category': 'json',\n",
    "}\n",
    "\n",
    "# Clear old cached records.\n",
    "oc_api.clear_api_cache()\n",
    "\n",
    "# This is a search url for bovid tibias.\n",
    "url = 'https://opencontext.org/subjects-search/Italy?proj=24-murlo&prop=oc-gen-cat-object#14/43.1610/11.3961/18/any/Google-Satellite'\n",
    "\n",
    "# Fetch the 'standard' (linked data identified) attributes in use with\n",
    "# data at the url.\n",
    "stnd_attribs_tuples = oc_api.get_standard_attributes(\n",
    "    url,\n",
    ")\n",
    "\n",
    "proj_attribs_tuples = oc_api.get_common_attributes(\n",
    "    url,\n",
    "    min_portion=0.001,\n",
    ")\n",
    "\n",
    "# Now display the standard attributes found in this search / query result\n",
    "for slug, label in stnd_attribs_tuples:\n",
    "    print('Standard: {}, identified by slug: {}'.format(label, slug))\n",
    "\n",
    "for slug, label in proj_attribs_tuples:\n",
    "    print('Proj attribute: {}, identified by slug: {}'.format(label, slug))\n"
   ]
  },
  {
   "cell_type": "code",
   "execution_count": 3,
   "metadata": {},
   "outputs": [
    {
     "name": "stdout",
     "output_type": "stream",
     "text": [
      "Got records 1 to 200 of 12584 from: http://opencontext.org/subjects-search/Italy?proj=24-murlo&prop=oc-gen-cat-object&rows=200&attributes=dc-terms-temporal%2Ccidoc-crm-p45-consists-of%2Ccidoc-crm-p2-has-type%2C24-fabric-category%2C24-object-type%2C24-director%2C24-fragment-noted%2C24-has-related-trench-book-entry%2C24-decorative-technique%2C24-conservation-material%2C24-conservation-action%2C24-vessel-form%2C24-chronology%2C24-motif%2Ccatalogued-by%2C24-reference%2C24-conserved-by%2C24-record-type%2C24-initially-documented-as%2C24-has-specialist-record%2C24-absorbed-by%2C24-absorbs%2C24-vessel-part-present%2C24-joins%2C24-vessel-part%2C24-comparanda-form%2C24-size%2C24-object-type-notes%2C24-condition%2C24-fabric-description%2C24-description%2C24-object-master-grid%2C24-local-grid-y%2C24-munsell-color%2C24-catalog-id-note%2C24-conservation-people%2C24-conservation-treatment-notes%2C24-object-coordinate-notes%2C24-local-grid-x-note%2C24-trench%2C24-depth-notes%2C24-general-notes%2C24-grid-notes%2C24-specialist-description-note%2C24-supplemental-find-identification-note%2C24-conserved-in-group%2C24-object-relationship-note%2C24-references%2C24-supplement-note%2C24-local-grid-x%2C24-conservation-treatment-year%2C24-legacy-database-artifact-id%2C24-year-excavated-1%2C24-year-cataloged%2C24-page%2C24-year%2C24-elevation%2C24-grid-x%2C24-grid-y%2C24-grid-x-uncertainty-cm%2C24-grid-y-uncertainty-cm%2C24-elevation-uncertainty-cm%2C24-conservation-treatment-date%2C24-date-cataloged&response=metadata%2Curi-meta\r",
      "Got records 201 to 400 of 12584 from: http://opencontext.org/subjects-search/Italy?attributes=dc-terms-temporal%2Ccidoc-crm-p45-consists-of%2Ccidoc-crm-p2-has-type%2C24-fabric-category%2C24-object-type%2C24-director%2C24-fragment-noted%2C24-has-related-trench-book-entry%2C24-decorative-technique%2C24-conservation-material%2C24-conservation-action%2C24-vessel-form%2C24-chronology%2C24-motif%2Ccatalogued-by%2C24-reference%2C24-conserved-by%2C24-record-type%2C24-initially-documented-as%2C24-has-specialist-record%2C24-absorbed-by%2C24-absorbs%2C24-vessel-part-present%2C24-joins%2C24-vessel-part%2C24-comparanda-form%2C24-size%2C24-object-type-notes%2C24-condition%2C24-fabric-description%2C24-description%2C24-object-master-grid%2C24-local-grid-y%2C24-munsell-color%2C24-catalog-id-note%2C24-conservation-people%2C24-conservation-treatment-notes%2C24-object-coordinate-notes%2C24-local-grid-x-note%2C24-trench%2C24-depth-notes%2C24-general-notes%2C24-grid-notes%2C24-specialist-description-note%2C24-supplemental-find-identification-note%2C24-conserved-in-group%2C24-object-relationship-note%2C24-references%2C24-supplement-note%2C24-local-grid-x%2C24-conservation-treatment-year%2C24-legacy-database-artifact-id%2C24-year-excavated-1%2C24-year-cataloged%2C24-page%2C24-year%2C24-elevation%2C24-grid-x%2C24-grid-y%2C24-grid-x-uncertainty-cm%2C24-grid-y-uncertainty-cm%2C24-elevation-uncertainty-cm%2C24-conservation-treatment-date%2C24-date-cataloged&proj=24-murlo&prop=oc-gen-cat-object&response=metadata%2Curi-meta&rows=200&start=200\r",
      "Got records 401 to 600 of 12584 from: http://opencontext.org/subjects-search/Italy?attributes=dc-terms-temporal%2Ccidoc-crm-p45-consists-of%2Ccidoc-crm-p2-has-type%2C24-fabric-category%2C24-object-type%2C24-director%2C24-fragment-noted%2C24-has-related-trench-book-entry%2C24-decorative-technique%2C24-conservation-material%2C24-conservation-action%2C24-vessel-form%2C24-chronology%2C24-motif%2Ccatalogued-by%2C24-reference%2C24-conserved-by%2C24-record-type%2C24-initially-documented-as%2C24-has-specialist-record%2C24-absorbed-by%2C24-absorbs%2C24-vessel-part-present%2C24-joins%2C24-vessel-part%2C24-comparanda-form%2C24-size%2C24-object-type-notes%2C24-condition%2C24-fabric-description%2C24-description%2C24-object-master-grid%2C24-local-grid-y%2C24-munsell-color%2C24-catalog-id-note%2C24-conservation-people%2C24-conservation-treatment-notes%2C24-object-coordinate-notes%2C24-local-grid-x-note%2C24-trench%2C24-depth-notes%2C24-general-notes%2C24-grid-notes%2C24-specialist-description-note%2C24-supplemental-find-identification-note%2C24-conserved-in-group%2C24-object-relationship-note%2C24-references%2C24-supplement-note%2C24-local-grid-x%2C24-conservation-treatment-year%2C24-legacy-database-artifact-id%2C24-year-excavated-1%2C24-year-cataloged%2C24-page%2C24-year%2C24-elevation%2C24-grid-x%2C24-grid-y%2C24-grid-x-uncertainty-cm%2C24-grid-y-uncertainty-cm%2C24-elevation-uncertainty-cm%2C24-conservation-treatment-date%2C24-date-cataloged&proj=24-murlo&prop=oc-gen-cat-object&response=metadata%2Curi-meta&rows=200&start=400\r",
      "Got records 601 to 800 of 12584 from: http://opencontext.org/subjects-search/Italy?attributes=dc-terms-temporal%2Ccidoc-crm-p45-consists-of%2Ccidoc-crm-p2-has-type%2C24-fabric-category%2C24-object-type%2C24-director%2C24-fragment-noted%2C24-has-related-trench-book-entry%2C24-decorative-technique%2C24-conservation-material%2C24-conservation-action%2C24-vessel-form%2C24-chronology%2C24-motif%2Ccatalogued-by%2C24-reference%2C24-conserved-by%2C24-record-type%2C24-initially-documented-as%2C24-has-specialist-record%2C24-absorbed-by%2C24-absorbs%2C24-vessel-part-present%2C24-joins%2C24-vessel-part%2C24-comparanda-form%2C24-size%2C24-object-type-notes%2C24-condition%2C24-fabric-description%2C24-description%2C24-object-master-grid%2C24-local-grid-y%2C24-munsell-color%2C24-catalog-id-note%2C24-conservation-people%2C24-conservation-treatment-notes%2C24-object-coordinate-notes%2C24-local-grid-x-note%2C24-trench%2C24-depth-notes%2C24-general-notes%2C24-grid-notes%2C24-specialist-description-note%2C24-supplemental-find-identification-note%2C24-conserved-in-group%2C24-object-relationship-note%2C24-references%2C24-supplement-note%2C24-local-grid-x%2C24-conservation-treatment-year%2C24-legacy-database-artifact-id%2C24-year-excavated-1%2C24-year-cataloged%2C24-page%2C24-year%2C24-elevation%2C24-grid-x%2C24-grid-y%2C24-grid-x-uncertainty-cm%2C24-grid-y-uncertainty-cm%2C24-elevation-uncertainty-cm%2C24-conservation-treatment-date%2C24-date-cataloged&proj=24-murlo&prop=oc-gen-cat-object&response=metadata%2Curi-meta&rows=200&start=600\r",
      "Got records 801 to 1000 of 12584 from: http://opencontext.org/subjects-search/Italy?attributes=dc-terms-temporal%2Ccidoc-crm-p45-consists-of%2Ccidoc-crm-p2-has-type%2C24-fabric-category%2C24-object-type%2C24-director%2C24-fragment-noted%2C24-has-related-trench-book-entry%2C24-decorative-technique%2C24-conservation-material%2C24-conservation-action%2C24-vessel-form%2C24-chronology%2C24-motif%2Ccatalogued-by%2C24-reference%2C24-conserved-by%2C24-record-type%2C24-initially-documented-as%2C24-has-specialist-record%2C24-absorbed-by%2C24-absorbs%2C24-vessel-part-present%2C24-joins%2C24-vessel-part%2C24-comparanda-form%2C24-size%2C24-object-type-notes%2C24-condition%2C24-fabric-description%2C24-description%2C24-object-master-grid%2C24-local-grid-y%2C24-munsell-color%2C24-catalog-id-note%2C24-conservation-people%2C24-conservation-treatment-notes%2C24-object-coordinate-notes%2C24-local-grid-x-note%2C24-trench%2C24-depth-notes%2C24-general-notes%2C24-grid-notes%2C24-specialist-description-note%2C24-supplemental-find-identification-note%2C24-conserved-in-group%2C24-object-relationship-note%2C24-references%2C24-supplement-note%2C24-local-grid-x%2C24-conservation-treatment-year%2C24-legacy-database-artifact-id%2C24-year-excavated-1%2C24-year-cataloged%2C24-page%2C24-year%2C24-elevation%2C24-grid-x%2C24-grid-y%2C24-grid-x-uncertainty-cm%2C24-grid-y-uncertainty-cm%2C24-elevation-uncertainty-cm%2C24-conservation-treatment-date%2C24-date-cataloged&proj=24-murlo&prop=oc-gen-cat-object&response=metadata%2Curi-meta&rows=200&start=800\r",
      "Got records 1001 to 1200 of 12584 from: http://opencontext.org/subjects-search/Italy?attributes=dc-terms-temporal%2Ccidoc-crm-p45-consists-of%2Ccidoc-crm-p2-has-type%2C24-fabric-category%2C24-object-type%2C24-director%2C24-fragment-noted%2C24-has-related-trench-book-entry%2C24-decorative-technique%2C24-conservation-material%2C24-conservation-action%2C24-vessel-form%2C24-chronology%2C24-motif%2Ccatalogued-by%2C24-reference%2C24-conserved-by%2C24-record-type%2C24-initially-documented-as%2C24-has-specialist-record%2C24-absorbed-by%2C24-absorbs%2C24-vessel-part-present%2C24-joins%2C24-vessel-part%2C24-comparanda-form%2C24-size%2C24-object-type-notes%2C24-condition%2C24-fabric-description%2C24-description%2C24-object-master-grid%2C24-local-grid-y%2C24-munsell-color%2C24-catalog-id-note%2C24-conservation-people%2C24-conservation-treatment-notes%2C24-object-coordinate-notes%2C24-local-grid-x-note%2C24-trench%2C24-depth-notes%2C24-general-notes%2C24-grid-notes%2C24-specialist-description-note%2C24-supplemental-find-identification-note%2C24-conserved-in-group%2C24-object-relationship-note%2C24-references%2C24-supplement-note%2C24-local-grid-x%2C24-conservation-treatment-year%2C24-legacy-database-artifact-id%2C24-year-excavated-1%2C24-year-cataloged%2C24-page%2C24-year%2C24-elevation%2C24-grid-x%2C24-grid-y%2C24-grid-x-uncertainty-cm%2C24-grid-y-uncertainty-cm%2C24-elevation-uncertainty-cm%2C24-conservation-treatment-date%2C24-date-cataloged&proj=24-murlo&prop=oc-gen-cat-object&response=metadata%2Curi-meta&rows=200&start=1000\r",
      "Got records 1201 to 1400 of 12584 from: http://opencontext.org/subjects-search/Italy?attributes=dc-terms-temporal%2Ccidoc-crm-p45-consists-of%2Ccidoc-crm-p2-has-type%2C24-fabric-category%2C24-object-type%2C24-director%2C24-fragment-noted%2C24-has-related-trench-book-entry%2C24-decorative-technique%2C24-conservation-material%2C24-conservation-action%2C24-vessel-form%2C24-chronology%2C24-motif%2Ccatalogued-by%2C24-reference%2C24-conserved-by%2C24-record-type%2C24-initially-documented-as%2C24-has-specialist-record%2C24-absorbed-by%2C24-absorbs%2C24-vessel-part-present%2C24-joins%2C24-vessel-part%2C24-comparanda-form%2C24-size%2C24-object-type-notes%2C24-condition%2C24-fabric-description%2C24-description%2C24-object-master-grid%2C24-local-grid-y%2C24-munsell-color%2C24-catalog-id-note%2C24-conservation-people%2C24-conservation-treatment-notes%2C24-object-coordinate-notes%2C24-local-grid-x-note%2C24-trench%2C24-depth-notes%2C24-general-notes%2C24-grid-notes%2C24-specialist-description-note%2C24-supplemental-find-identification-note%2C24-conserved-in-group%2C24-object-relationship-note%2C24-references%2C24-supplement-note%2C24-local-grid-x%2C24-conservation-treatment-year%2C24-legacy-database-artifact-id%2C24-year-excavated-1%2C24-year-cataloged%2C24-page%2C24-year%2C24-elevation%2C24-grid-x%2C24-grid-y%2C24-grid-x-uncertainty-cm%2C24-grid-y-uncertainty-cm%2C24-elevation-uncertainty-cm%2C24-conservation-treatment-date%2C24-date-cataloged&proj=24-murlo&prop=oc-gen-cat-object&response=metadata%2Curi-meta&rows=200&start=1200\r",
      "Got records 1401 to 1600 of 12584 from: http://opencontext.org/subjects-search/Italy?attributes=dc-terms-temporal%2Ccidoc-crm-p45-consists-of%2Ccidoc-crm-p2-has-type%2C24-fabric-category%2C24-object-type%2C24-director%2C24-fragment-noted%2C24-has-related-trench-book-entry%2C24-decorative-technique%2C24-conservation-material%2C24-conservation-action%2C24-vessel-form%2C24-chronology%2C24-motif%2Ccatalogued-by%2C24-reference%2C24-conserved-by%2C24-record-type%2C24-initially-documented-as%2C24-has-specialist-record%2C24-absorbed-by%2C24-absorbs%2C24-vessel-part-present%2C24-joins%2C24-vessel-part%2C24-comparanda-form%2C24-size%2C24-object-type-notes%2C24-condition%2C24-fabric-description%2C24-description%2C24-object-master-grid%2C24-local-grid-y%2C24-munsell-color%2C24-catalog-id-note%2C24-conservation-people%2C24-conservation-treatment-notes%2C24-object-coordinate-notes%2C24-local-grid-x-note%2C24-trench%2C24-depth-notes%2C24-general-notes%2C24-grid-notes%2C24-specialist-description-note%2C24-supplemental-find-identification-note%2C24-conserved-in-group%2C24-object-relationship-note%2C24-references%2C24-supplement-note%2C24-local-grid-x%2C24-conservation-treatment-year%2C24-legacy-database-artifact-id%2C24-year-excavated-1%2C24-year-cataloged%2C24-page%2C24-year%2C24-elevation%2C24-grid-x%2C24-grid-y%2C24-grid-x-uncertainty-cm%2C24-grid-y-uncertainty-cm%2C24-elevation-uncertainty-cm%2C24-conservation-treatment-date%2C24-date-cataloged&proj=24-murlo&prop=oc-gen-cat-object&response=metadata%2Curi-meta&rows=200&start=1400\r",
      "Got records 1601 to 1800 of 12584 from: http://opencontext.org/subjects-search/Italy?attributes=dc-terms-temporal%2Ccidoc-crm-p45-consists-of%2Ccidoc-crm-p2-has-type%2C24-fabric-category%2C24-object-type%2C24-director%2C24-fragment-noted%2C24-has-related-trench-book-entry%2C24-decorative-technique%2C24-conservation-material%2C24-conservation-action%2C24-vessel-form%2C24-chronology%2C24-motif%2Ccatalogued-by%2C24-reference%2C24-conserved-by%2C24-record-type%2C24-initially-documented-as%2C24-has-specialist-record%2C24-absorbed-by%2C24-absorbs%2C24-vessel-part-present%2C24-joins%2C24-vessel-part%2C24-comparanda-form%2C24-size%2C24-object-type-notes%2C24-condition%2C24-fabric-description%2C24-description%2C24-object-master-grid%2C24-local-grid-y%2C24-munsell-color%2C24-catalog-id-note%2C24-conservation-people%2C24-conservation-treatment-notes%2C24-object-coordinate-notes%2C24-local-grid-x-note%2C24-trench%2C24-depth-notes%2C24-general-notes%2C24-grid-notes%2C24-specialist-description-note%2C24-supplemental-find-identification-note%2C24-conserved-in-group%2C24-object-relationship-note%2C24-references%2C24-supplement-note%2C24-local-grid-x%2C24-conservation-treatment-year%2C24-legacy-database-artifact-id%2C24-year-excavated-1%2C24-year-cataloged%2C24-page%2C24-year%2C24-elevation%2C24-grid-x%2C24-grid-y%2C24-grid-x-uncertainty-cm%2C24-grid-y-uncertainty-cm%2C24-elevation-uncertainty-cm%2C24-conservation-treatment-date%2C24-date-cataloged&proj=24-murlo&prop=oc-gen-cat-object&response=metadata%2Curi-meta&rows=200&start=1600\r"
     ]
    },
    {
     "name": "stdout",
     "output_type": "stream",
     "text": [
      "Got records 12401 to 12584 of 12584 from: http://opencontext.org/subjects-search/Italy?attributes=dc-terms-temporal%2Ccidoc-crm-p45-consists-of%2Ccidoc-crm-p2-has-type%2C24-fabric-category%2C24-object-type%2C24-director%2C24-fragment-noted%2C24-has-related-trench-book-entry%2C24-decorative-technique%2C24-conservation-material%2C24-conservation-action%2C24-vessel-form%2C24-chronology%2C24-motif%2Ccatalogued-by%2C24-reference%2C24-conserved-by%2C24-record-type%2C24-initially-documented-as%2C24-has-specialist-record%2C24-absorbed-by%2C24-absorbs%2C24-vessel-part-present%2C24-joins%2C24-vessel-part%2C24-comparanda-form%2C24-size%2C24-object-type-notes%2C24-condition%2C24-fabric-description%2C24-description%2C24-object-master-grid%2C24-local-grid-y%2C24-munsell-color%2C24-catalog-id-note%2C24-conservation-people%2C24-conservation-treatment-notes%2C24-object-coordinate-notes%2C24-local-grid-x-note%2C24-trench%2C24-depth-notes%2C24-general-notes%2C24-grid-notes%2C24-specialist-description-note%2C24-supplemental-find-identification-note%2C24-conserved-in-group%2C24-object-relationship-note%2C24-references%2C24-supplement-note%2C24-local-grid-x%2C24-conservation-treatment-year%2C24-legacy-database-artifact-id%2C24-year-excavated-1%2C24-year-cataloged%2C24-page%2C24-year%2C24-elevation%2C24-grid-x%2C24-grid-y%2C24-grid-x-uncertainty-cm%2C24-grid-y-uncertainty-cm%2C24-elevation-uncertainty-cm%2C24-conservation-treatment-date%2C24-date-cataloged&proj=24-murlo&prop=oc-gen-cat-object&response=metadata%2Curi-meta&rows=200&start=12400\r"
     ]
    }
   ],
   "source": [
    "# Make a list of only the slugs from the list of slug, label tuples.\n",
    "attribs_for_records = [slug for slug, _ in (stnd_attribs_tuples + proj_attribs_tuples)]\n",
    "\n",
    "# Make a dataframe by fetching result records from Open Context.\n",
    "# This will be slow until we finish improvements to Open Context's API.\n",
    "# However, the results get cached by saving as files locally. That\n",
    "# makes iterating on this notebook much less painful.\n",
    "df = oc_api.url_to_dataframe(url, attribs_for_records)"
   ]
  },
  {
   "cell_type": "markdown",
   "metadata": {},
   "source": [
    "In this particular dataset, there are long (sometimes HTML) descriptions of objects. We're caching these locally in the JSON results from the API requests to Open Context. However, for our purposes of making analysis friendly dataframes, we don't need these long free-text attributes. So we'll drop them from the dataframe."
   ]
  },
  {
   "cell_type": "code",
   "execution_count": 7,
   "metadata": {},
   "outputs": [
    {
     "name": "stdout",
     "output_type": "stream",
     "text": [
      "Saved this example as a CSV table at: /home/ekansa/github/open-context-jupyter/files/oc-api-murlo-objects-multivalue-as-json.csv\n"
     ]
    }
   ],
   "source": [
    "# Define a list of columns to drop.\n",
    "drop_cols = [\n",
    "    'Fragment Noted',\n",
    "    'Depth Notes',\n",
    "    'Supplement Note',\n",
    "    'Fabric Description',\n",
    "    'Description',\n",
    "    'Size',\n",
    "]\n",
    "df.drop(columns=drop_cols, inplace=True)\n",
    "# The API returns 'False' if a citation URI is not defined, it's better \n",
    "# practice to make this a null.\n",
    "df.loc[(df['citation uri'] == False), 'citation uri'] = np.nan \n",
    "\n",
    "import os\n",
    "\n",
    "# Now save the results of all of this as a CSV file.\n",
    "repo_path = os.path.dirname(os.path.abspath(os.getcwd()))\n",
    "csv_path = os.path.join(\n",
    "    repo_path, \n",
    "    'files',\n",
    "    'oc-api-murlo-objects-multivalue-as-json.csv'\n",
    ")\n",
    "df.to_csv(csv_path, index=False)\n",
    "print('Saved this example as a CSV table at: {}'.format(csv_path))\n"
   ]
  },
  {
   "cell_type": "markdown",
   "metadata": {},
   "source": [
    "Using the already cached JSON obtained from the Open Context API, we can make a second dataframe that is \"wider\" (has many more columns\"). This wide dataframe will express multiple values for \"Motif\", \"Decorative Technique\", and \"Fabric Category\" in different columns. We set the dictioary `oc_api.multi_value_handle_keyed_attribs` to do this."
   ]
  },
  {
   "cell_type": "code",
   "execution_count": 5,
   "metadata": {},
   "outputs": [
    {
     "name": "stdout",
     "output_type": "stream",
     "text": [
      "Got records 1 to 200 of 12584 from: http://opencontext.org/subjects-search/Italy?proj=24-murlo&prop=oc-gen-cat-object&rows=200&attributes=dc-terms-temporal%2Ccidoc-crm-p45-consists-of%2Ccidoc-crm-p2-has-type%2C24-fabric-category%2C24-object-type%2C24-director%2C24-fragment-noted%2C24-has-related-trench-book-entry%2C24-decorative-technique%2C24-conservation-material%2C24-conservation-action%2C24-vessel-form%2C24-chronology%2C24-motif%2Ccatalogued-by%2C24-reference%2C24-conserved-by%2C24-record-type%2C24-initially-documented-as%2C24-has-specialist-record%2C24-absorbed-by%2C24-absorbs%2C24-vessel-part-present%2C24-joins%2C24-vessel-part%2C24-comparanda-form%2C24-size%2C24-object-type-notes%2C24-condition%2C24-fabric-description%2C24-description%2C24-object-master-grid%2C24-local-grid-y%2C24-munsell-color%2C24-catalog-id-note%2C24-conservation-people%2C24-conservation-treatment-notes%2C24-object-coordinate-notes%2C24-local-grid-x-note%2C24-trench%2C24-depth-notes%2C24-general-notes%2C24-grid-notes%2C24-specialist-description-note%2C24-supplemental-find-identification-note%2C24-conserved-in-group%2C24-object-relationship-note%2C24-references%2C24-supplement-note%2C24-local-grid-x%2C24-conservation-treatment-year%2C24-legacy-database-artifact-id%2C24-year-excavated-1%2C24-year-cataloged%2C24-page%2C24-year%2C24-elevation%2C24-grid-x%2C24-grid-y%2C24-grid-x-uncertainty-cm%2C24-grid-y-uncertainty-cm%2C24-elevation-uncertainty-cm%2C24-conservation-treatment-date%2C24-date-cataloged&response=metadata%2Curi-meta\r",
      "Got records 201 to 400 of 12584 from: http://opencontext.org/subjects-search/Italy?attributes=dc-terms-temporal%2Ccidoc-crm-p45-consists-of%2Ccidoc-crm-p2-has-type%2C24-fabric-category%2C24-object-type%2C24-director%2C24-fragment-noted%2C24-has-related-trench-book-entry%2C24-decorative-technique%2C24-conservation-material%2C24-conservation-action%2C24-vessel-form%2C24-chronology%2C24-motif%2Ccatalogued-by%2C24-reference%2C24-conserved-by%2C24-record-type%2C24-initially-documented-as%2C24-has-specialist-record%2C24-absorbed-by%2C24-absorbs%2C24-vessel-part-present%2C24-joins%2C24-vessel-part%2C24-comparanda-form%2C24-size%2C24-object-type-notes%2C24-condition%2C24-fabric-description%2C24-description%2C24-object-master-grid%2C24-local-grid-y%2C24-munsell-color%2C24-catalog-id-note%2C24-conservation-people%2C24-conservation-treatment-notes%2C24-object-coordinate-notes%2C24-local-grid-x-note%2C24-trench%2C24-depth-notes%2C24-general-notes%2C24-grid-notes%2C24-specialist-description-note%2C24-supplemental-find-identification-note%2C24-conserved-in-group%2C24-object-relationship-note%2C24-references%2C24-supplement-note%2C24-local-grid-x%2C24-conservation-treatment-year%2C24-legacy-database-artifact-id%2C24-year-excavated-1%2C24-year-cataloged%2C24-page%2C24-year%2C24-elevation%2C24-grid-x%2C24-grid-y%2C24-grid-x-uncertainty-cm%2C24-grid-y-uncertainty-cm%2C24-elevation-uncertainty-cm%2C24-conservation-treatment-date%2C24-date-cataloged&proj=24-murlo&prop=oc-gen-cat-object&response=metadata%2Curi-meta&rows=200&start=200\r",
      "Got records 401 to 600 of 12584 from: http://opencontext.org/subjects-search/Italy?attributes=dc-terms-temporal%2Ccidoc-crm-p45-consists-of%2Ccidoc-crm-p2-has-type%2C24-fabric-category%2C24-object-type%2C24-director%2C24-fragment-noted%2C24-has-related-trench-book-entry%2C24-decorative-technique%2C24-conservation-material%2C24-conservation-action%2C24-vessel-form%2C24-chronology%2C24-motif%2Ccatalogued-by%2C24-reference%2C24-conserved-by%2C24-record-type%2C24-initially-documented-as%2C24-has-specialist-record%2C24-absorbed-by%2C24-absorbs%2C24-vessel-part-present%2C24-joins%2C24-vessel-part%2C24-comparanda-form%2C24-size%2C24-object-type-notes%2C24-condition%2C24-fabric-description%2C24-description%2C24-object-master-grid%2C24-local-grid-y%2C24-munsell-color%2C24-catalog-id-note%2C24-conservation-people%2C24-conservation-treatment-notes%2C24-object-coordinate-notes%2C24-local-grid-x-note%2C24-trench%2C24-depth-notes%2C24-general-notes%2C24-grid-notes%2C24-specialist-description-note%2C24-supplemental-find-identification-note%2C24-conserved-in-group%2C24-object-relationship-note%2C24-references%2C24-supplement-note%2C24-local-grid-x%2C24-conservation-treatment-year%2C24-legacy-database-artifact-id%2C24-year-excavated-1%2C24-year-cataloged%2C24-page%2C24-year%2C24-elevation%2C24-grid-x%2C24-grid-y%2C24-grid-x-uncertainty-cm%2C24-grid-y-uncertainty-cm%2C24-elevation-uncertainty-cm%2C24-conservation-treatment-date%2C24-date-cataloged&proj=24-murlo&prop=oc-gen-cat-object&response=metadata%2Curi-meta&rows=200&start=400\r",
      "Got records 601 to 800 of 12584 from: http://opencontext.org/subjects-search/Italy?attributes=dc-terms-temporal%2Ccidoc-crm-p45-consists-of%2Ccidoc-crm-p2-has-type%2C24-fabric-category%2C24-object-type%2C24-director%2C24-fragment-noted%2C24-has-related-trench-book-entry%2C24-decorative-technique%2C24-conservation-material%2C24-conservation-action%2C24-vessel-form%2C24-chronology%2C24-motif%2Ccatalogued-by%2C24-reference%2C24-conserved-by%2C24-record-type%2C24-initially-documented-as%2C24-has-specialist-record%2C24-absorbed-by%2C24-absorbs%2C24-vessel-part-present%2C24-joins%2C24-vessel-part%2C24-comparanda-form%2C24-size%2C24-object-type-notes%2C24-condition%2C24-fabric-description%2C24-description%2C24-object-master-grid%2C24-local-grid-y%2C24-munsell-color%2C24-catalog-id-note%2C24-conservation-people%2C24-conservation-treatment-notes%2C24-object-coordinate-notes%2C24-local-grid-x-note%2C24-trench%2C24-depth-notes%2C24-general-notes%2C24-grid-notes%2C24-specialist-description-note%2C24-supplemental-find-identification-note%2C24-conserved-in-group%2C24-object-relationship-note%2C24-references%2C24-supplement-note%2C24-local-grid-x%2C24-conservation-treatment-year%2C24-legacy-database-artifact-id%2C24-year-excavated-1%2C24-year-cataloged%2C24-page%2C24-year%2C24-elevation%2C24-grid-x%2C24-grid-y%2C24-grid-x-uncertainty-cm%2C24-grid-y-uncertainty-cm%2C24-elevation-uncertainty-cm%2C24-conservation-treatment-date%2C24-date-cataloged&proj=24-murlo&prop=oc-gen-cat-object&response=metadata%2Curi-meta&rows=200&start=600\r",
      "Got records 801 to 1000 of 12584 from: http://opencontext.org/subjects-search/Italy?attributes=dc-terms-temporal%2Ccidoc-crm-p45-consists-of%2Ccidoc-crm-p2-has-type%2C24-fabric-category%2C24-object-type%2C24-director%2C24-fragment-noted%2C24-has-related-trench-book-entry%2C24-decorative-technique%2C24-conservation-material%2C24-conservation-action%2C24-vessel-form%2C24-chronology%2C24-motif%2Ccatalogued-by%2C24-reference%2C24-conserved-by%2C24-record-type%2C24-initially-documented-as%2C24-has-specialist-record%2C24-absorbed-by%2C24-absorbs%2C24-vessel-part-present%2C24-joins%2C24-vessel-part%2C24-comparanda-form%2C24-size%2C24-object-type-notes%2C24-condition%2C24-fabric-description%2C24-description%2C24-object-master-grid%2C24-local-grid-y%2C24-munsell-color%2C24-catalog-id-note%2C24-conservation-people%2C24-conservation-treatment-notes%2C24-object-coordinate-notes%2C24-local-grid-x-note%2C24-trench%2C24-depth-notes%2C24-general-notes%2C24-grid-notes%2C24-specialist-description-note%2C24-supplemental-find-identification-note%2C24-conserved-in-group%2C24-object-relationship-note%2C24-references%2C24-supplement-note%2C24-local-grid-x%2C24-conservation-treatment-year%2C24-legacy-database-artifact-id%2C24-year-excavated-1%2C24-year-cataloged%2C24-page%2C24-year%2C24-elevation%2C24-grid-x%2C24-grid-y%2C24-grid-x-uncertainty-cm%2C24-grid-y-uncertainty-cm%2C24-elevation-uncertainty-cm%2C24-conservation-treatment-date%2C24-date-cataloged&proj=24-murlo&prop=oc-gen-cat-object&response=metadata%2Curi-meta&rows=200&start=800\r",
      "Got records 1001 to 1200 of 12584 from: http://opencontext.org/subjects-search/Italy?attributes=dc-terms-temporal%2Ccidoc-crm-p45-consists-of%2Ccidoc-crm-p2-has-type%2C24-fabric-category%2C24-object-type%2C24-director%2C24-fragment-noted%2C24-has-related-trench-book-entry%2C24-decorative-technique%2C24-conservation-material%2C24-conservation-action%2C24-vessel-form%2C24-chronology%2C24-motif%2Ccatalogued-by%2C24-reference%2C24-conserved-by%2C24-record-type%2C24-initially-documented-as%2C24-has-specialist-record%2C24-absorbed-by%2C24-absorbs%2C24-vessel-part-present%2C24-joins%2C24-vessel-part%2C24-comparanda-form%2C24-size%2C24-object-type-notes%2C24-condition%2C24-fabric-description%2C24-description%2C24-object-master-grid%2C24-local-grid-y%2C24-munsell-color%2C24-catalog-id-note%2C24-conservation-people%2C24-conservation-treatment-notes%2C24-object-coordinate-notes%2C24-local-grid-x-note%2C24-trench%2C24-depth-notes%2C24-general-notes%2C24-grid-notes%2C24-specialist-description-note%2C24-supplemental-find-identification-note%2C24-conserved-in-group%2C24-object-relationship-note%2C24-references%2C24-supplement-note%2C24-local-grid-x%2C24-conservation-treatment-year%2C24-legacy-database-artifact-id%2C24-year-excavated-1%2C24-year-cataloged%2C24-page%2C24-year%2C24-elevation%2C24-grid-x%2C24-grid-y%2C24-grid-x-uncertainty-cm%2C24-grid-y-uncertainty-cm%2C24-elevation-uncertainty-cm%2C24-conservation-treatment-date%2C24-date-cataloged&proj=24-murlo&prop=oc-gen-cat-object&response=metadata%2Curi-meta&rows=200&start=1000\r",
      "Got records 1201 to 1400 of 12584 from: http://opencontext.org/subjects-search/Italy?attributes=dc-terms-temporal%2Ccidoc-crm-p45-consists-of%2Ccidoc-crm-p2-has-type%2C24-fabric-category%2C24-object-type%2C24-director%2C24-fragment-noted%2C24-has-related-trench-book-entry%2C24-decorative-technique%2C24-conservation-material%2C24-conservation-action%2C24-vessel-form%2C24-chronology%2C24-motif%2Ccatalogued-by%2C24-reference%2C24-conserved-by%2C24-record-type%2C24-initially-documented-as%2C24-has-specialist-record%2C24-absorbed-by%2C24-absorbs%2C24-vessel-part-present%2C24-joins%2C24-vessel-part%2C24-comparanda-form%2C24-size%2C24-object-type-notes%2C24-condition%2C24-fabric-description%2C24-description%2C24-object-master-grid%2C24-local-grid-y%2C24-munsell-color%2C24-catalog-id-note%2C24-conservation-people%2C24-conservation-treatment-notes%2C24-object-coordinate-notes%2C24-local-grid-x-note%2C24-trench%2C24-depth-notes%2C24-general-notes%2C24-grid-notes%2C24-specialist-description-note%2C24-supplemental-find-identification-note%2C24-conserved-in-group%2C24-object-relationship-note%2C24-references%2C24-supplement-note%2C24-local-grid-x%2C24-conservation-treatment-year%2C24-legacy-database-artifact-id%2C24-year-excavated-1%2C24-year-cataloged%2C24-page%2C24-year%2C24-elevation%2C24-grid-x%2C24-grid-y%2C24-grid-x-uncertainty-cm%2C24-grid-y-uncertainty-cm%2C24-elevation-uncertainty-cm%2C24-conservation-treatment-date%2C24-date-cataloged&proj=24-murlo&prop=oc-gen-cat-object&response=metadata%2Curi-meta&rows=200&start=1200\r",
      "Got records 1401 to 1600 of 12584 from: http://opencontext.org/subjects-search/Italy?attributes=dc-terms-temporal%2Ccidoc-crm-p45-consists-of%2Ccidoc-crm-p2-has-type%2C24-fabric-category%2C24-object-type%2C24-director%2C24-fragment-noted%2C24-has-related-trench-book-entry%2C24-decorative-technique%2C24-conservation-material%2C24-conservation-action%2C24-vessel-form%2C24-chronology%2C24-motif%2Ccatalogued-by%2C24-reference%2C24-conserved-by%2C24-record-type%2C24-initially-documented-as%2C24-has-specialist-record%2C24-absorbed-by%2C24-absorbs%2C24-vessel-part-present%2C24-joins%2C24-vessel-part%2C24-comparanda-form%2C24-size%2C24-object-type-notes%2C24-condition%2C24-fabric-description%2C24-description%2C24-object-master-grid%2C24-local-grid-y%2C24-munsell-color%2C24-catalog-id-note%2C24-conservation-people%2C24-conservation-treatment-notes%2C24-object-coordinate-notes%2C24-local-grid-x-note%2C24-trench%2C24-depth-notes%2C24-general-notes%2C24-grid-notes%2C24-specialist-description-note%2C24-supplemental-find-identification-note%2C24-conserved-in-group%2C24-object-relationship-note%2C24-references%2C24-supplement-note%2C24-local-grid-x%2C24-conservation-treatment-year%2C24-legacy-database-artifact-id%2C24-year-excavated-1%2C24-year-cataloged%2C24-page%2C24-year%2C24-elevation%2C24-grid-x%2C24-grid-y%2C24-grid-x-uncertainty-cm%2C24-grid-y-uncertainty-cm%2C24-elevation-uncertainty-cm%2C24-conservation-treatment-date%2C24-date-cataloged&proj=24-murlo&prop=oc-gen-cat-object&response=metadata%2Curi-meta&rows=200&start=1400\r",
      "Got records 1601 to 1800 of 12584 from: http://opencontext.org/subjects-search/Italy?attributes=dc-terms-temporal%2Ccidoc-crm-p45-consists-of%2Ccidoc-crm-p2-has-type%2C24-fabric-category%2C24-object-type%2C24-director%2C24-fragment-noted%2C24-has-related-trench-book-entry%2C24-decorative-technique%2C24-conservation-material%2C24-conservation-action%2C24-vessel-form%2C24-chronology%2C24-motif%2Ccatalogued-by%2C24-reference%2C24-conserved-by%2C24-record-type%2C24-initially-documented-as%2C24-has-specialist-record%2C24-absorbed-by%2C24-absorbs%2C24-vessel-part-present%2C24-joins%2C24-vessel-part%2C24-comparanda-form%2C24-size%2C24-object-type-notes%2C24-condition%2C24-fabric-description%2C24-description%2C24-object-master-grid%2C24-local-grid-y%2C24-munsell-color%2C24-catalog-id-note%2C24-conservation-people%2C24-conservation-treatment-notes%2C24-object-coordinate-notes%2C24-local-grid-x-note%2C24-trench%2C24-depth-notes%2C24-general-notes%2C24-grid-notes%2C24-specialist-description-note%2C24-supplemental-find-identification-note%2C24-conserved-in-group%2C24-object-relationship-note%2C24-references%2C24-supplement-note%2C24-local-grid-x%2C24-conservation-treatment-year%2C24-legacy-database-artifact-id%2C24-year-excavated-1%2C24-year-cataloged%2C24-page%2C24-year%2C24-elevation%2C24-grid-x%2C24-grid-y%2C24-grid-x-uncertainty-cm%2C24-grid-y-uncertainty-cm%2C24-elevation-uncertainty-cm%2C24-conservation-treatment-date%2C24-date-cataloged&proj=24-murlo&prop=oc-gen-cat-object&response=metadata%2Curi-meta&rows=200&start=1600\r",
      "Got records 1801 to 2000 of 12584 from: http://opencontext.org/subjects-search/Italy?attributes=dc-terms-temporal%2Ccidoc-crm-p45-consists-of%2Ccidoc-crm-p2-has-type%2C24-fabric-category%2C24-object-type%2C24-director%2C24-fragment-noted%2C24-has-related-trench-book-entry%2C24-decorative-technique%2C24-conservation-material%2C24-conservation-action%2C24-vessel-form%2C24-chronology%2C24-motif%2Ccatalogued-by%2C24-reference%2C24-conserved-by%2C24-record-type%2C24-initially-documented-as%2C24-has-specialist-record%2C24-absorbed-by%2C24-absorbs%2C24-vessel-part-present%2C24-joins%2C24-vessel-part%2C24-comparanda-form%2C24-size%2C24-object-type-notes%2C24-condition%2C24-fabric-description%2C24-description%2C24-object-master-grid%2C24-local-grid-y%2C24-munsell-color%2C24-catalog-id-note%2C24-conservation-people%2C24-conservation-treatment-notes%2C24-object-coordinate-notes%2C24-local-grid-x-note%2C24-trench%2C24-depth-notes%2C24-general-notes%2C24-grid-notes%2C24-specialist-description-note%2C24-supplemental-find-identification-note%2C24-conserved-in-group%2C24-object-relationship-note%2C24-references%2C24-supplement-note%2C24-local-grid-x%2C24-conservation-treatment-year%2C24-legacy-database-artifact-id%2C24-year-excavated-1%2C24-year-cataloged%2C24-page%2C24-year%2C24-elevation%2C24-grid-x%2C24-grid-y%2C24-grid-x-uncertainty-cm%2C24-grid-y-uncertainty-cm%2C24-elevation-uncertainty-cm%2C24-conservation-treatment-date%2C24-date-cataloged&proj=24-murlo&prop=oc-gen-cat-object&response=metadata%2Curi-meta&rows=200&start=1800\r",
      "Got records 2001 to 2200 of 12584 from: http://opencontext.org/subjects-search/Italy?attributes=dc-terms-temporal%2Ccidoc-crm-p45-consists-of%2Ccidoc-crm-p2-has-type%2C24-fabric-category%2C24-object-type%2C24-director%2C24-fragment-noted%2C24-has-related-trench-book-entry%2C24-decorative-technique%2C24-conservation-material%2C24-conservation-action%2C24-vessel-form%2C24-chronology%2C24-motif%2Ccatalogued-by%2C24-reference%2C24-conserved-by%2C24-record-type%2C24-initially-documented-as%2C24-has-specialist-record%2C24-absorbed-by%2C24-absorbs%2C24-vessel-part-present%2C24-joins%2C24-vessel-part%2C24-comparanda-form%2C24-size%2C24-object-type-notes%2C24-condition%2C24-fabric-description%2C24-description%2C24-object-master-grid%2C24-local-grid-y%2C24-munsell-color%2C24-catalog-id-note%2C24-conservation-people%2C24-conservation-treatment-notes%2C24-object-coordinate-notes%2C24-local-grid-x-note%2C24-trench%2C24-depth-notes%2C24-general-notes%2C24-grid-notes%2C24-specialist-description-note%2C24-supplemental-find-identification-note%2C24-conserved-in-group%2C24-object-relationship-note%2C24-references%2C24-supplement-note%2C24-local-grid-x%2C24-conservation-treatment-year%2C24-legacy-database-artifact-id%2C24-year-excavated-1%2C24-year-cataloged%2C24-page%2C24-year%2C24-elevation%2C24-grid-x%2C24-grid-y%2C24-grid-x-uncertainty-cm%2C24-grid-y-uncertainty-cm%2C24-elevation-uncertainty-cm%2C24-conservation-treatment-date%2C24-date-cataloged&proj=24-murlo&prop=oc-gen-cat-object&response=metadata%2Curi-meta&rows=200&start=2000\r"
     ]
    },
    {
     "name": "stdout",
     "output_type": "stream",
     "text": [
      "Got records 12401 to 12584 of 12584 from: http://opencontext.org/subjects-search/Italy?attributes=dc-terms-temporal%2Ccidoc-crm-p45-consists-of%2Ccidoc-crm-p2-has-type%2C24-fabric-category%2C24-object-type%2C24-director%2C24-fragment-noted%2C24-has-related-trench-book-entry%2C24-decorative-technique%2C24-conservation-material%2C24-conservation-action%2C24-vessel-form%2C24-chronology%2C24-motif%2Ccatalogued-by%2C24-reference%2C24-conserved-by%2C24-record-type%2C24-initially-documented-as%2C24-has-specialist-record%2C24-absorbed-by%2C24-absorbs%2C24-vessel-part-present%2C24-joins%2C24-vessel-part%2C24-comparanda-form%2C24-size%2C24-object-type-notes%2C24-condition%2C24-fabric-description%2C24-description%2C24-object-master-grid%2C24-local-grid-y%2C24-munsell-color%2C24-catalog-id-note%2C24-conservation-people%2C24-conservation-treatment-notes%2C24-object-coordinate-notes%2C24-local-grid-x-note%2C24-trench%2C24-depth-notes%2C24-general-notes%2C24-grid-notes%2C24-specialist-description-note%2C24-supplemental-find-identification-note%2C24-conserved-in-group%2C24-object-relationship-note%2C24-references%2C24-supplement-note%2C24-local-grid-x%2C24-conservation-treatment-year%2C24-legacy-database-artifact-id%2C24-year-excavated-1%2C24-year-cataloged%2C24-page%2C24-year%2C24-elevation%2C24-grid-x%2C24-grid-y%2C24-grid-x-uncertainty-cm%2C24-grid-y-uncertainty-cm%2C24-elevation-uncertainty-cm%2C24-conservation-treatment-date%2C24-date-cataloged&proj=24-murlo&prop=oc-gen-cat-object&response=metadata%2Curi-meta&rows=200&start=12400\r"
     ]
    }
   ],
   "source": [
    "oc_api.multi_value_handle_non_number = 'concat'\n",
    "oc_api.multi_value_handle_keyed_attribs = {\n",
    "    'Motif': 'column_val',\n",
    "    'Decorative Technique': 'column_val',\n",
    "    'Fabric Category': 'column_val',\n",
    "}\n",
    "df_wide = oc_api.url_to_dataframe(url, attribs_for_records)\n"
   ]
  },
  {
   "cell_type": "markdown",
   "metadata": {},
   "source": [
    "The `df_wide` dataframe handles multiple values for some attributes by making many boolean columns, with each column noting the presense of a given attribute value on a row for an artifact. For example, `True` values on the column \"Motif :: Panther\"\" indicate the presense of a \"Panther\" motif observed on an artifact, and `True` valeus of the column \"Motif :: Potnia Theron\" indicate a \"Potnia Theron\" motif on an artifact."
   ]
  },
  {
   "cell_type": "code",
   "execution_count": 6,
   "metadata": {},
   "outputs": [
    {
     "name": "stdout",
     "output_type": "stream",
     "text": [
      "Saved this example wide as a CSV table at: /home/ekansa/github/open-context-jupyter/files/oc-api-murlo-objects-multivalue-as-cols.csv\n"
     ]
    }
   ],
   "source": [
    "df_wide.drop(columns=drop_cols, inplace=True)\n",
    "# The API returns 'False' if a citation URI is not defined, it's better \n",
    "# practice to make this a null.\n",
    "df_wide.loc[(df_wide['citation uri'] == False), 'citation uri'] = np.nan \n",
    "csv_wide_path = os.path.join(\n",
    "    repo_path, \n",
    "    'files',\n",
    "    'oc-api-murlo-objects-multivalue-as-cols.csv'\n",
    ")\n",
    "df_wide.to_csv(csv_wide_path, index=False)\n",
    "print('Saved this example wide as a CSV table at: {}'.format(csv_wide_path))"
   ]
  }
 ],
 "metadata": {
  "kernelspec": {
   "display_name": "Python 3",
   "language": "python",
   "name": "python3"
  },
  "language_info": {
   "codemirror_mode": {
    "name": "ipython",
    "version": 3
   },
   "file_extension": ".py",
   "mimetype": "text/x-python",
   "name": "python",
   "nbconvert_exporter": "python",
   "pygments_lexer": "ipython3",
   "version": "3.8.2"
  }
 },
 "nbformat": 4,
 "nbformat_minor": 4
}
