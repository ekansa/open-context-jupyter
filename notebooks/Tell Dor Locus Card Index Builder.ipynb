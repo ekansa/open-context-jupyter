{
 "cells": [
  {
   "cell_type": "code",
   "execution_count": 1,
   "metadata": {},
   "outputs": [
    {
     "name": "stdout",
     "output_type": "stream",
     "text": [
      "Files found: 1400\n"
     ]
    }
   ],
   "source": [
    "import itertools\n",
    "import os\n",
    "import numpy as np\n",
    "import pandas as pd\n",
    "\n",
    "\n",
    "\n",
    "# Get the root_path for this jupyter notebook repo.\n",
    "repo_path = os.path.dirname(os.path.abspath(os.getcwd()))\n",
    "\n",
    "path_locus_cards = os.path.join(\n",
    "    repo_path, 'files', 'tell-dor', 'tell-dor-locus-cards-index.csv'\n",
    ")\n",
    "# Path to the Tell Dor locus metadata CSV \n",
    "path_loci = os.path.join(\n",
    "    repo_path, 'files', 'tell-dor', 'tell-dor-loci.csv'\n",
    ")\n",
    "# Read the locus (and wall) CSV into dataframe l_df.\n",
    "l_df = pd.read_csv(path_loci)\n",
    "l_df['Number'] = l_df['Number'].astype(str)\n",
    "\n",
    "# Get the directory of the locus cards\n",
    "path_cards = os.path.join(\n",
    "    'C:\\\\', 'GitHub', 'open-context-py', 'static', 'exports', 'tell-dor-area-g', 'locus-cards'\n",
    ")\n",
    "files = [f for f in os.listdir(path_cards) if os.path.isfile(os.path.join(path_cards, f))]\n",
    "print('Files found: {}'.format(len(files)))\n",
    "\n"
   ]
  },
  {
   "cell_type": "code",
   "execution_count": 2,
   "metadata": {},
   "outputs": [
    {
     "name": "stdout",
     "output_type": "stream",
     "text": [
      "Check for b also\n",
      "Still missing: 18023.b.pdf\n",
      "18027.pdf\n",
      "18208.PDF\n"
     ]
    }
   ],
   "source": [
    "cols = [\n",
    "    'Locus ID',\n",
    "    'Resource Type',\n",
    "    'file',\n",
    "    'full',\n",
    "    'preview',\n",
    "    'thumbs',\n",
    "]\n",
    "\n",
    "data = {col:[] for col in cols}\n",
    "\n",
    "url_prefix = 'https://artiraq.org/static/opencontext/tel-dor/locus-cards/'\n",
    "\n",
    "missing = []\n",
    "for file in files:\n",
    "    # The file names correspond to locus / wall ids. \n",
    "    file_parts = file.split('.')  \n",
    "    id_part = file_parts[0]\n",
    "    id_indx = (l_df['Number'] == id_part)\n",
    "    if len(file_parts) > 2:\n",
    "        print('Check for {} also'.format(file_parts[1]))\n",
    "        id_indx &= (l_df['Number'].str.contains(file_parts[1], case=False))\n",
    "    if l_df[id_indx].empty:\n",
    "        # Can't find a matching locus or wall\n",
    "        id_indx = (l_df['Number'].str.startswith(id_part))\n",
    "        if len(file_parts) > 2:\n",
    "            id_indx &= (l_df['Number'].str.contains(file_parts[1], case=False))\n",
    "    if l_df[id_indx].empty:\n",
    "        missing.append(file)\n",
    "        continue\n",
    "    locus_ids = l_df[id_indx]['Locus ID'].unique().tolist()\n",
    "    for locus_id in locus_ids:\n",
    "        data['Locus ID'].append(locus_id)\n",
    "        data['Resource Type'].append('Locus card')\n",
    "        data['file'].append(file)\n",
    "        data['full'].append((url_prefix + file))\n",
    "        data['preview'].append((url_prefix + file + '#preview'))\n",
    "        data['thumbs'].append('https://opencontext.org/static/oc/images/icons/pdf-noun-89522.png')\n",
    "    \n",
    "card_df = pd.DataFrame(data=data)\n",
    "card_df = card_df[cols]\n",
    "card_df.to_csv(path_locus_cards, index=False)\n",
    "\n",
    "print('Still missing: {}'.format('\\n'.join(missing)))\n",
    "\n"
   ]
  }
 ],
 "metadata": {
  "kernelspec": {
   "display_name": "Python 3 (ipykernel)",
   "language": "python",
   "name": "python3"
  },
  "language_info": {
   "codemirror_mode": {
    "name": "ipython",
    "version": 3
   },
   "file_extension": ".py",
   "mimetype": "text/x-python",
   "name": "python",
   "nbconvert_exporter": "python",
   "pygments_lexer": "ipython3",
   "version": "3.8.12"
  }
 },
 "nbformat": 4,
 "nbformat_minor": 2
}
