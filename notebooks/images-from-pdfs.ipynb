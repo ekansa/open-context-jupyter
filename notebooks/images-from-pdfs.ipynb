{
 "cells": [
  {
   "cell_type": "code",
   "execution_count": 1,
   "id": "a49443d6",
   "metadata": {},
   "outputs": [
    {
     "name": "stdout",
     "output_type": "stream",
     "text": [
      "We have 1040 files to process\n"
     ]
    }
   ],
   "source": [
    "import numpy as np\n",
    "import os\n",
    "import fitz\n",
    "import io\n",
    "from PIL import Image\n",
    "\n",
    "\n",
    "# Get the root_path for this jupyter notebook repo.\n",
    "repo_path = os.path.dirname(os.path.abspath(os.getcwd()))\n",
    "\n",
    "path_pdfs = os.path.join(\n",
    "    repo_path, 'files', 'pdfs'\n",
    ")\n",
    "\n",
    "file_paths = []\n",
    "for dirpath, _, filenames in os.walk(path_pdfs):\n",
    "    for filename in filenames:\n",
    "        if filename.endswith(':Zone.Identifier'):\n",
    "            # A convenience hack for Windows subsystem for linux\n",
    "            continue\n",
    "        if filename.startswith('.'):\n",
    "            # A convenience hack for Windows subsystem for linux\n",
    "            continue\n",
    "        if not filename.endswith('.pdf'):\n",
    "            continue\n",
    "        file_path = os.path.join(dirpath, filename)\n",
    "        file_paths.append(file_path)\n",
    "\n",
    "        \n",
    "num_orig = len(file_paths)\n",
    "print(f'We have {num_orig} files to process')\n"
   ]
  },
  {
   "cell_type": "code",
   "execution_count": 2,
   "id": "b5c52b79",
   "metadata": {
    "scrolled": true
   },
   "outputs": [],
   "source": [
    "output_format = 'png'\n",
    "i = 0\n",
    "for file_path in file_paths:\n",
    "    i += 1\n",
    "    new_path = file_path.replace('/files/pdfs/', '/files/images-from-pdfs/')\n",
    "    new_dir = os.path.dirname(new_path)\n",
    "    new_file = new_path.replace('.pdf', f'.{output_format}')\n",
    "    if not os.path.exists(new_dir):\n",
    "        os.makedirs(new_dir)\n",
    "    if os.path.exists(new_file):\n",
    "        continue\n",
    "    print(f'[{i} of {num_orig}] working on {file_path}')\n",
    "    pdf_file = fitz.open(file_path)\n",
    "    pdf_image_list = []\n",
    "    for page_index in range(len(pdf_file)):\n",
    "        # get the page itself\n",
    "        page = pdf_file[page_index]\n",
    "        pdf_image_list += page.get_images(full=True)\n",
    "    if not pdf_image_list:\n",
    "        continue\n",
    "    if len(pdf_image_list) > 1:\n",
    "        print(f'[{i} of {num_orig}] {file_path} has more than {len(pdf_image_list)} images!! ')\n",
    "    img_i = 0\n",
    "    for img in pdf_image_list:\n",
    "        if img_i > 0:\n",
    "            continue\n",
    "        xref = img[0]\n",
    "        base_image = pdf_file.extract_image(xref)\n",
    "        image_bytes = base_image[\"image\"]\n",
    "        image_ext = base_image[\"ext\"]\n",
    "        print(f'Image was a {image_ext}')\n",
    "        image = Image.open(io.BytesIO(image_bytes))\n",
    "        image.save(\n",
    "                open(new_file, \"wb\"),\n",
    "                format=output_format.upper(),\n",
    "        )\n",
    "        img_i += 1\n",
    "        \n",
    "    "
   ]
  },
  {
   "cell_type": "code",
   "execution_count": null,
   "id": "2caac033",
   "metadata": {},
   "outputs": [],
   "source": []
  }
 ],
 "metadata": {
  "kernelspec": {
   "display_name": "Python 3 (ipykernel)",
   "language": "python",
   "name": "python3"
  },
  "language_info": {
   "codemirror_mode": {
    "name": "ipython",
    "version": 3
   },
   "file_extension": ".py",
   "mimetype": "text/x-python",
   "name": "python",
   "nbconvert_exporter": "python",
   "pygments_lexer": "ipython3",
   "version": "3.11.5"
  }
 },
 "nbformat": 4,
 "nbformat_minor": 5
}
